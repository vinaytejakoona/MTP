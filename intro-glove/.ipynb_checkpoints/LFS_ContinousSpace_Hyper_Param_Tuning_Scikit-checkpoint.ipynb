{
 "cells": [
  {
   "cell_type": "code",
   "execution_count": 1,
   "metadata": {},
   "outputs": [],
   "source": [
    "%load_ext autoreload\n",
    "%reload_ext autoreload\n",
    "%autoreload 2\n",
    "%matplotlib inline\n",
    "\n",
    "import os\n",
    "\n",
    "# TO USE A DATABASE OTHER THAN SQLITE, USE THIS LINE\n",
    "# Note that this is necessary for parallel execution amongst other things...\n",
    "# os.environ['SNORKELDB'] = 'postgres:///snorkel-intro'\n",
    "\n",
    "from snorkel import SnorkelSession\n",
    "session = SnorkelSession()\n",
    "\n",
    "# Here, we just set how many documents we'll process for automatic testing- you can safely ignore this!\n",
    "n_docs = 500 if 'CI' in os.environ else 2591\n",
    "\n",
    "from snorkel.models import candidate_subclass\n",
    "\n",
    "Spouse = candidate_subclass('Spouse', ['person1', 'person2'])\n",
    "\n",
    "train_cands = session.query(Spouse).filter(Spouse.split == 0).order_by(Spouse.id).all()\n",
    "dev_cands   = session.query(Spouse).filter(Spouse.split == 1).order_by(Spouse.id).all()\n",
    "test_cands  = session.query(Spouse).filter(Spouse.split == 2).order_by(Spouse.id).all()\n"
   ]
  },
  {
   "cell_type": "code",
   "execution_count": 2,
   "metadata": {
    "collapsed": true
   },
   "outputs": [],
   "source": [
    "from util import load_external_labels\n",
    "\n",
    "#%time load_external_labels(session, Spouse, annotator_name='gold')\n",
    "\n",
    "from snorkel.annotations import load_gold_labels\n",
    "\n",
    "#L_gold_dev  = load_gold_labels(session, annotator_name='gold', split=1, zero_one=True)\n",
    "#L_gold_test = load_gold_labels(session, annotator_name='gold', split=2, zero_one=True)\n",
    "\n",
    "L_gold_dev  = load_gold_labels(session, annotator_name='gold', split=1)\n",
    "L_gold_test = load_gold_labels(session, annotator_name='gold', split=2)"
   ]
  },
  {
   "cell_type": "code",
   "execution_count": 3,
   "metadata": {},
   "outputs": [
    {
     "name": "stdout",
     "output_type": "stream",
     "text": [
      "(2796, 2697)\n"
     ]
    }
   ],
   "source": [
    "#gold_labels_dev = [x[0,0] for x in L_gold_dev.todense()]\n",
    "#for i,L in enumerate(gold_labels_dev):\n",
    "#    print(i,gold_labels_dev[i])\n",
    "\n",
    "gold_labels_dev = []\n",
    "for i,L in enumerate(L_gold_dev):\n",
    "    gold_labels_dev.append(L[0,0])\n",
    "    \n",
    "gold_labels_test = []\n",
    "for i,L in enumerate(L_gold_test):\n",
    "    gold_labels_test.append(L[0,0])\n",
    "    \n",
    "print(len(gold_labels_dev),len(gold_labels_test))"
   ]
  },
  {
   "cell_type": "code",
   "execution_count": 9,
   "metadata": {},
   "outputs": [
    {
     "ename": "KeyboardInterrupt",
     "evalue": "",
     "output_type": "error",
     "traceback": [
      "\u001b[0;31m---------------------------------------------------------------------------\u001b[0m",
      "\u001b[0;31mKeyboardInterrupt\u001b[0m                         Traceback (most recent call last)",
      "\u001b[0;32m<ipython-input-9-5f1d625d99bf>\u001b[0m in \u001b[0;36m<module>\u001b[0;34m()\u001b[0m\n\u001b[1;32m      5\u001b[0m \u001b[0;34m\u001b[0m\u001b[0m\n\u001b[1;32m      6\u001b[0m \u001b[0;31m# Load pretrained model (since intermediate data is not included, the model cannot be refined with additional data)\u001b[0m\u001b[0;34m\u001b[0m\u001b[0;34m\u001b[0m\u001b[0m\n\u001b[0;32m----> 7\u001b[0;31m \u001b[0mmodel\u001b[0m \u001b[0;34m=\u001b[0m \u001b[0mKeyedVectors\u001b[0m\u001b[0;34m.\u001b[0m\u001b[0mload_word2vec_format\u001b[0m\u001b[0;34m(\u001b[0m\u001b[0;34m'../glove_w2v.txt'\u001b[0m\u001b[0;34m,\u001b[0m \u001b[0mbinary\u001b[0m\u001b[0;34m=\u001b[0m\u001b[0mFalse\u001b[0m\u001b[0;34m)\u001b[0m  \u001b[0;31m# C binary format\u001b[0m\u001b[0;34m\u001b[0m\u001b[0m\n\u001b[0m\u001b[1;32m      8\u001b[0m \u001b[0;34m\u001b[0m\u001b[0m\n\u001b[1;32m      9\u001b[0m \u001b[0;34m\u001b[0m\u001b[0m\n",
      "\u001b[0;32m/home/vinay/anaconda3/envs/en27/lib/python2.7/site-packages/gensim/models/keyedvectors.pyc\u001b[0m in \u001b[0;36mload_word2vec_format\u001b[0;34m(cls, fname, fvocab, binary, encoding, unicode_errors, limit, datatype)\u001b[0m\n\u001b[1;32m    254\u001b[0m                     \u001b[0;32mif\u001b[0m \u001b[0mlen\u001b[0m\u001b[0;34m(\u001b[0m\u001b[0mparts\u001b[0m\u001b[0;34m)\u001b[0m \u001b[0;34m!=\u001b[0m \u001b[0mvector_size\u001b[0m \u001b[0;34m+\u001b[0m \u001b[0;36m1\u001b[0m\u001b[0;34m:\u001b[0m\u001b[0;34m\u001b[0m\u001b[0m\n\u001b[1;32m    255\u001b[0m                         \u001b[0;32mraise\u001b[0m \u001b[0mValueError\u001b[0m\u001b[0;34m(\u001b[0m\u001b[0;34m\"invalid vector on line %s (is this really the text format?)\"\u001b[0m \u001b[0;34m%\u001b[0m \u001b[0;34m(\u001b[0m\u001b[0mline_no\u001b[0m\u001b[0;34m)\u001b[0m\u001b[0;34m)\u001b[0m\u001b[0;34m\u001b[0m\u001b[0m\n\u001b[0;32m--> 256\u001b[0;31m                     \u001b[0mword\u001b[0m\u001b[0;34m,\u001b[0m \u001b[0mweights\u001b[0m \u001b[0;34m=\u001b[0m \u001b[0mparts\u001b[0m\u001b[0;34m[\u001b[0m\u001b[0;36m0\u001b[0m\u001b[0;34m]\u001b[0m\u001b[0;34m,\u001b[0m \u001b[0mlist\u001b[0m\u001b[0;34m(\u001b[0m\u001b[0mmap\u001b[0m\u001b[0;34m(\u001b[0m\u001b[0mREAL\u001b[0m\u001b[0;34m,\u001b[0m \u001b[0mparts\u001b[0m\u001b[0;34m[\u001b[0m\u001b[0;36m1\u001b[0m\u001b[0;34m:\u001b[0m\u001b[0;34m]\u001b[0m\u001b[0;34m)\u001b[0m\u001b[0;34m)\u001b[0m\u001b[0;34m\u001b[0m\u001b[0m\n\u001b[0m\u001b[1;32m    257\u001b[0m                     \u001b[0madd_word\u001b[0m\u001b[0;34m(\u001b[0m\u001b[0mword\u001b[0m\u001b[0;34m,\u001b[0m \u001b[0mweights\u001b[0m\u001b[0;34m)\u001b[0m\u001b[0;34m\u001b[0m\u001b[0m\n\u001b[1;32m    258\u001b[0m         \u001b[0;32mif\u001b[0m \u001b[0mresult\u001b[0m\u001b[0;34m.\u001b[0m\u001b[0msyn0\u001b[0m\u001b[0;34m.\u001b[0m\u001b[0mshape\u001b[0m\u001b[0;34m[\u001b[0m\u001b[0;36m0\u001b[0m\u001b[0;34m]\u001b[0m \u001b[0;34m!=\u001b[0m \u001b[0mlen\u001b[0m\u001b[0;34m(\u001b[0m\u001b[0mresult\u001b[0m\u001b[0;34m.\u001b[0m\u001b[0mvocab\u001b[0m\u001b[0;34m)\u001b[0m\u001b[0;34m:\u001b[0m\u001b[0;34m\u001b[0m\u001b[0m\n",
      "\u001b[0;31mKeyboardInterrupt\u001b[0m: "
     ]
    }
   ],
   "source": [
    "from gensim.parsing.preprocessing import STOPWORDS\n",
    "import gensim.matutils as gm\n",
    "\n",
    "from gensim.models.keyedvectors import KeyedVectors\n",
    "\n",
    "# Load pretrained model (since intermediate data is not included, the model cannot be refined with additional data)\n",
    "model = KeyedVectors.load_word2vec_format('../glove_w2v.txt', binary=False)  # C binary format\n",
    "\n",
    "\n",
    "wordvec_unavailable= set()\n",
    "def write_to_file(wordvec_unavailable):\n",
    "    with open(\"wordvec_unavailable.txt\",\"w\") as f:\n",
    "        for word in wordvec_unavailable:\n",
    "            f.write(word+\"\\n\")\n",
    "\n",
    "def preprocess(tokens):\n",
    "    btw_words = [word for word in tokens if word not in STOPWORDS]\n",
    "    btw_words = [word for word in btw_words if word.isalpha()]\n",
    "    return btw_words\n",
    "\n",
    "def get_word_vectors(btw_words): # returns vector of embeddings of words\n",
    "    word_vectors= []\n",
    "    for word in btw_words:\n",
    "        try:\n",
    "            word_v = np.array(model[word])\n",
    "            word_v = word_v.reshape(len(word_v),1)\n",
    "            #print(word_v.shape)\n",
    "            word_vectors.append(model[word])\n",
    "        except:\n",
    "            wordvec_unavailable.add(word)\n",
    "    return word_vectors\n",
    "\n",
    "def get_similarity(word_vectors,target_word): # sent(list of word vecs) to word similarity\n",
    "    similarity = 0\n",
    "    target_word_vector = 0\n",
    "    try:\n",
    "        target_word_vector = model[target_word]\n",
    "    except:\n",
    "        wordvec_unavailable.add(target_word+\" t\")\n",
    "        return similarity\n",
    "    target_word_sparse = gm.any2sparse(target_word_vector,eps=1e-09)\n",
    "    for wv in word_vectors:\n",
    "        wv_sparse = gm.any2sparse(wv, eps=1e-09)\n",
    "        similarity = max(similarity,gm.cossim(wv_sparse,target_word_sparse))\n",
    "    return similarity\n"
   ]
  },
  {
   "cell_type": "code",
   "execution_count": 26,
   "metadata": {
    "collapsed": true
   },
   "outputs": [],
   "source": [
    "from scipy.optimize import minimize\n",
    "import cPickle as pickle\n",
    "\n",
    "\n",
    "def print_details(estimator):\n",
    "        print(\"on dev set:\")\n",
    "        print(\"###########  softmax_th\",estimator.softmax_th,\" lf_th\",estimator.lf_th, \"########################\")\n",
    "        LAMDA,SCORE = estimator.get_LAMDA(dev_cands)\n",
    "        P_cap = estimator.get_P_cap(LAMDA,SCORE,estimator.THETA)\n",
    "        marginals= estimator.get_marginals(P_cap)\n",
    "        plt.hist(marginals, bins=20)\n",
    "        plt.show()\n",
    "        plt.bar(range(0,len(LAMDA)),marginals) #2796 = len(LAMDA) for Spouse\n",
    "        plt.show()\n",
    "        predicted_labels=estimator.predict_labels(marginals)\n",
    "        print(len(marginals),len(predicted_labels),len(gold_labels_dev))\n",
    "        #score(predicted_labels,self.gold_labels_dev)\n",
    "        print(precision_recall_fscore_support(np.array(gold_labels_dev),np.array(predicted_labels),average='binary')) \n",
    "        return predicted_labels\n",
    "\n",
    "\n",
    "import re\n",
    "from snorkel.lf_helpers import (\n",
    "    get_left_tokens, get_right_tokens, get_between_tokens,\n",
    "    get_text_between, get_tagged_text,\n",
    ")\n",
    "\n",
    "spouses = {'spouse', 'wife', 'husband', 'ex-wife', 'ex-husband'}\n",
    "\n",
    "\n",
    "family = {'father', 'mother', 'sister', 'brother', 'son', 'daughter',\n",
    "              'grandfather', 'grandmother', 'uncle', 'aunt', 'cousin'}\n",
    "\n",
    "family = family | {f + '-in-law' for f in family}\n",
    "other = {'boyfriend', 'girlfriend', 'boss', 'employee', 'secretary', 'co-worker'}\n",
    "\n",
    "# Helper function to get last name\n",
    "def last_name(s):\n",
    "    name_parts = s.split(' ')\n",
    "    return name_parts[-1] if len(name_parts) > 1 else None    \n",
    "\n",
    "\n",
    "import bz2\n",
    "\n",
    "# Function to remove special characters from text\n",
    "def strip_special(s):\n",
    "    return ''.join(c for c in s if ord(c) < 128)\n",
    "\n",
    "# Read in known spouse pairs and save as set of tuples\n",
    "with bz2.BZ2File('data/spouses_dbpedia.csv.bz2', 'rb') as f:\n",
    "    known_spouses = set(\n",
    "        tuple(strip_special(x).strip().split(',')) for x in f.readlines()\n",
    "    )\n",
    "# Last name pairs for known spouses\n",
    "last_names = set([(last_name(x), last_name(y)) for x, y in known_spouses if last_name(x) and last_name(y)])\n",
    "\n"
   ]
  },
  {
   "cell_type": "code",
   "execution_count": 28,
   "metadata": {},
   "outputs": [],
   "source": [
    "from sklearn.base import BaseEstimator, ClassifierMixin\n",
    "\n",
    "import numpy as np\n",
    "\n",
    "np.random.seed(78)\n",
    "class Custom_Estimator(BaseEstimator, ClassifierMixin): # y is dummy\n",
    "    def __init__(self,LFs,lf_th=0.5,softmax_th=0.5):\n",
    "        self.lf_th = lf_th\n",
    "        self.softmax_th = softmax_th\n",
    "        self.LFs = LFs\n",
    "        self.THETA = np.random.rand(len(LFs),1)\n",
    "        self.dev_cands = dev_cands\n",
    "        self.gold_labels_dev = gold_labels_dev\n",
    "\n",
    "        \n",
    "    def PHI(self,K,LAMDAi,SCOREi):\n",
    "        return [K*l*s for (l,s) in zip(LAMDAi,SCOREi)]\n",
    "\n",
    "    def softmax(self,THETA,LAMDAi,SCOREi):\n",
    "        x = []\n",
    "        for k in [1,-1]:\n",
    "            product = np.dot(self.PHI(k,LAMDAi,SCOREi),THETA)\n",
    "            x.append(product)\n",
    "        return np.exp(x) / np.sum(np.exp(x), axis=0)\n",
    "\n",
    "    \n",
    "    def predict(self,X,y=None):\n",
    "        print(\"predicting:\")\n",
    "        print(\"###########  softmax_th\",self.softmax_th,\" lf_th\",self.lf_th, \"########################\")\n",
    "        LAMDA,SCORE = self.get_LAMDA(X)\n",
    "        P_cap = self.get_P_cap(LAMDA,SCORE,self.THETA)\n",
    "        marginals = self.get_marginals(P_cap)\n",
    "        plt.hist(marginals, bins=20)\n",
    "        plt.show()\n",
    "        plt.bar(range(0,len(LAMDA)),marginals) #2796 = len(LAMDA) for Spouse\n",
    "        plt.show()\n",
    "        predicted_labels=self.predict_labels(marginals)\n",
    "        return predicted_labels\n",
    "\n",
    "\n",
    "    def classify(self, inputs):\n",
    "        return self.predict(inputs)\n",
    "    \n",
    "    def fit(self,X,y=None): # X is train_cands\n",
    "        self.train(train_cands)\n",
    "        return self\n",
    "\n",
    "    \n",
    "    def predict_labels(self,marginals):\n",
    "        predicted_labels=[]\n",
    "        for i in marginals:\n",
    "            if(i<0.5):\n",
    "                predicted_labels.append(-1)\n",
    "            else:\n",
    "                predicted_labels.append(1)\n",
    "        return predicted_labels\n",
    "    \n",
    "    def get_marginals(self,P_cap):\n",
    "        marginals = []\n",
    "        for P_capi in P_cap:\n",
    "            marginals.append(P_capi[0])\n",
    "        return marginals\n",
    "    \n",
    "    def get_P_cap(self,LAMDA,SCORE,THETA):\n",
    "        P_cap = []\n",
    "        for i in range(len(LAMDA)):\n",
    "            P_capi = self.softmax(THETA,LAMDA[i],SCORE[i])\n",
    "            P_cap.append(P_capi)\n",
    "        return P_cap\n",
    "\n",
    "    def PHIj(self,j,K,LAMDAi,SCOREi):\n",
    "        return LAMDAi[j]*K*SCOREi[j]\n",
    "\n",
    "    def RIGHT(self,j,LAMDAi,SCOREi,THETA):\n",
    "        phi = []\n",
    "        for k in [1,-1]:\n",
    "            phi.append(self.PHIj(j,k,LAMDAi,SCOREi))\n",
    "        x = self.softmax(THETA,LAMDAi,SCOREi)\n",
    "        return np.dot(phi,x)\n",
    "\n",
    "    def get_LAMDA(self,cands):\n",
    "        LAMDA = []\n",
    "        SCORE = []\n",
    "        for ci in cands:\n",
    "            L=[]\n",
    "            S=[]\n",
    "            P_ik = []\n",
    "            for LF in self.LFs:\n",
    "                #print LF.__name__\n",
    "                LF = getattr(Custom_Estimator,LF)\n",
    "                l,s = LF(self,ci)\n",
    "                L.append(l)\n",
    "                S.append((s+1)/2)  #to scale scores in [0,1] \n",
    "            LAMDA.append(L)\n",
    "            SCORE.append(S) \n",
    "        return LAMDA,SCORE\n",
    "\n",
    "    def get_Confidence(self,LAMDA):\n",
    "        confidence = []\n",
    "        for L in LAMDA:\n",
    "            Total_L = float(len(L))\n",
    "            No_zeros = L.count(0)\n",
    "            No_Non_Zeros = Total_L - No_zeros\n",
    "            confidence.append(No_Non_Zeros/Total_L)\n",
    "        return confidence    \n",
    "\n",
    "    def get_Initial_P_cap(self,LAMDA):\n",
    "        P_cap = []\n",
    "        for L in LAMDA:\n",
    "            P_ik = []\n",
    "            denominator=float(L.count(1)+L.count(-1))\n",
    "            if(denominator==0):\n",
    "                denominator=1\n",
    "            P_ik.append(L.count(1)/denominator)\n",
    "            P_ik.append(L.count(-1)/denominator)\n",
    "            P_cap.append(P_ik)\n",
    "        return P_cap\n",
    "    \n",
    "    def function(self,THETA,LAMDA,SCORE,P_cap):\n",
    "        s = 0.0\n",
    "        i = 0\n",
    "        for i in range(len(LAMDA)):\n",
    "            s = s + np.dot(np.log(self.softmax(THETA,LAMDA[i],SCORE[i])),P_cap[i])\n",
    "            i = i+1\n",
    "        return -s\n",
    "    \n",
    "    def function_der(self,THETA,LAMDA,SCORE,P_cap):\n",
    "        der = []\n",
    "        for j in range(len(THETA)):\n",
    "            i = 0\n",
    "            s = 0.0\n",
    "            for index in range(len(LAMDA)):\n",
    "                p = 0\n",
    "                for K in [1,-1]:\n",
    "                    s = s + (self.PHIj(j,K,LAMDA[index],SCORE[index])-self.RIGHT(j,LAMDA[index],SCORE[index],THETA))*P_cap[i][p]\n",
    "                    p = p+1\n",
    "                i = i+1\n",
    "            der.append(-s)\n",
    "        return np.array(der)\n",
    "    \n",
    "    def get_params(self, deep = False):\n",
    "        return {'lf_th':self.lf_th,'softmax_th':self.softmax_th,'LFs':self.LFs}\n",
    "\n",
    "    \n",
    "    def score(self,X,y=None):\n",
    "        LAMDA,SCORE = self.get_LAMDA(X)\n",
    "        P_cap = self.get_Initial_P_cap(LAMDA)\n",
    "        res = self.function(self.THETA,LAMDA,SCORE,P_cap)\n",
    "        return -res - self.softmax_th - self.lf_th       \n",
    "  \n",
    "    \n",
    "    def train(self,train_cands,No_Iter=2,Use_Confidence=False,theta_file_name=\"THETA\"):\n",
    "        LAMDA,SCORE = self.get_LAMDA(train_cands)\n",
    "        P_cap = self.get_Initial_P_cap(LAMDA)\n",
    "        #Confidence = get_Confidence(LAMDA)\n",
    "        for iteration in range(No_Iter):\n",
    "            if(Use_Confidence==True):\n",
    "                res = minimize(self.function_conf,self.THETA,args=(LAMDA,P_cap,Confidence), method='BFGS',jac=function_conf_der,options={'disp': True, 'maxiter':20}) #nelder-mead\n",
    "            else:\n",
    "                res = minimize(self.function,self.THETA,args=(LAMDA,SCORE,P_cap), method='BFGS',jac=self.function_der,options={'disp': True, 'maxiter':20}) #nelder-mead            \n",
    "            self.THETA = res.x # new THETA\n",
    "            print(self.THETA)\n",
    "            P_cap = self.get_P_cap(LAMDA,SCORE,self.THETA) #new p_cap \n",
    "            print_details(self)\n",
    "            #score(predicted_labels,gold_labels)\n",
    "        NP_P_cap = np.array(P_cap)\n",
    "        np.savetxt('Train_P_cap.txt', NP_P_cap, fmt='%f')\n",
    "        pickle.dump(NP_P_cap,open(\"Train_P_cap.p\",\"wb\"))\n",
    "        NP_THETA = np.array(self.THETA)\n",
    "        np.savetxt(theta_file_name+'.txt', NP_THETA, fmt='%f') \n",
    "        pickle.dump( NP_THETA, open( theta_file_name+'.p', \"wb\" )) # save the file as \"outfile_name.npy\" \n",
    "    \n",
    "\n",
    "    def LF_husband_wife(self,c):\n",
    "        sc = 0\n",
    "        word_vectors = get_word_vectors(preprocess(get_between_tokens(c)))\n",
    "        for sw in spouses:\n",
    "            sc=max(sc,get_similarity(word_vectors,sw))\n",
    "        if sc < self.lf_th:\n",
    "            return (0,0)\n",
    "        return (1,sc)\n",
    "\n",
    "    def LF_husband_wife_left_window(self,c):\n",
    "        sc_1 = 0\n",
    "        word_vectors = get_word_vectors(preprocess(get_left_tokens(c[0])))\n",
    "        for sw in spouses:\n",
    "            sc_1=max(sc_1,get_similarity(word_vectors,sw))\n",
    "\n",
    "        sc_2 = 0\n",
    "        word_vectors = get_word_vectors(preprocess(get_left_tokens(c[1])))\n",
    "        for sw in spouses:\n",
    "            sc_2=max(sc_2,get_similarity(word_vectors,sw))\n",
    "        if max(sc_1,sc_2)< self.lf_th:\n",
    "            return (0,0)\n",
    "        return(1,max(sc_1,sc_2))\n",
    "\n",
    "    def LF_same_last_name(self,c):\n",
    "        p1_last_name = last_name(c.person1.get_span())\n",
    "        p2_last_name = last_name(c.person2.get_span())\n",
    "        if p1_last_name and p2_last_name and p1_last_name == p2_last_name:\n",
    "            if c.person1.get_span() != c.person2.get_span():\n",
    "                return (1,1)\n",
    "        return (0,0)\n",
    "\n",
    "    def LF_no_spouse_in_sentence(self,c):\n",
    "        return (-1,0.75) if np.random.rand() < 0.75 and len(spouses.intersection(c.get_parent().words)) == 0 else (0,0)\n",
    "\n",
    "    def LF_and_married(self,c):\n",
    "\n",
    "        word_vectors = get_word_vectors(preprocess(get_right_tokens(c)))\n",
    "        sc = get_similarity(word_vectors,'married')\n",
    "        if sc< self.lf_th:\n",
    "            return (0,0)\n",
    "        if 'and' in get_between_tokens(c):\n",
    "            return (1,sc)\n",
    "        else:\n",
    "            return (0,0)\n",
    "\n",
    "    def LF_familial_relationship(self,c):\n",
    "\n",
    "        sc = 0\n",
    "        word_vectors = get_word_vectors(preprocess(get_between_tokens(c)))\n",
    "        for fw in family:\n",
    "            sc=max(sc,get_similarity(word_vectors,fw))\n",
    "\n",
    "        if sc < self.lf_th:\n",
    "            return (0,0)\n",
    "        return (-1,sc) \n",
    "\n",
    "    def LF_family_left_window(self,c):\n",
    "\n",
    "        sc_1 = 0\n",
    "        word_vectors = get_word_vectors(preprocess(get_left_tokens(c[0])))\n",
    "        for fw in family:\n",
    "            sc_1=max(sc_1,get_similarity(word_vectors,fw))\n",
    "\n",
    "        sc_2 = 0\n",
    "        word_vectors = get_word_vectors(preprocess(get_left_tokens(c[1])))\n",
    "        for fw in family:\n",
    "            sc_2=max(sc_2,get_similarity(word_vectors,fw))\n",
    "\n",
    "        if max(sc_1,sc_2)< self.lf_th:\n",
    "            return (0,0)\n",
    "        return (-1,max(sc_1,sc_2))\n",
    "\n",
    "    def LF_other_relationship(self,c):\n",
    "        sc = 0\n",
    "        word_vectors = get_word_vectors(preprocess(get_between_tokens(c)))\n",
    "        for ow in other:\n",
    "            sc=max(sc,get_similarity(word_vectors,ow))\n",
    "\n",
    "        if sc < self.lf_th:\n",
    "            return (0,0)\n",
    "        return (-1,sc) \n",
    "\n",
    "    def LF_other_relationship_left_window(self,c):\n",
    "        sc = 0\n",
    "        word_vectors = get_word_vectors(preprocess(get_left_tokens(c)))\n",
    "        for ow in other:\n",
    "            sc=max(sc,get_similarity(word_vectors,ow))\n",
    "        if sc < self.lf_th:\n",
    "            return (0,0)\n",
    "        return (-1,sc) \n",
    "\n",
    "    \n",
    "    def LF_distant_supervision(self,c):\n",
    "        p1, p2 = c.person1.get_span(), c.person2.get_span()\n",
    "        return (1,1) if (p1, p2) in known_spouses or (p2, p1) in known_spouses else (0,0)\n",
    "\n",
    "    def LF_distant_supervision_last_names(self,c):\n",
    "        p1, p2 = c.person1.get_span(), c.person2.get_span()\n",
    "        p1n, p2n = last_name(p1), last_name(p2)\n",
    "        return (1,1) if (p1 != p2) and ((p1n, p2n) in last_names or (p2n, p1n) in last_names) else (0,1)\n",
    "\n",
    "\n",
    "    def LF_Three_Lists_Left_Window(self,c):\n",
    "        c1,s1 = self.LF_husband_wife_left_window(c)\n",
    "        c2,s2 = self.LF_family_left_window(c)\n",
    "        c3,s3 = self.LF_other_relationship_left_window(c)\n",
    "        sc = np.array([s1,s2,s3])\n",
    "        c = [c1,c2,c3]\n",
    "        sharp_param = 1.5\n",
    "        prob_sc = np.exp(sc * sharp_param - np.max(sc))\n",
    "        prob_sc = prob_sc / np.sum(prob_sc)\n",
    "        #print 'Left:',s1,s2,s3,prob_sc\n",
    "\n",
    "        if s1==s2 or s3==s1 or np.max(sc)< self.softmax_th:\n",
    "            return (0,0)\n",
    "        return c[np.argmax(prob_sc)],1\n",
    "\n",
    "    def LF_Three_Lists_Between_Words(self,c):\n",
    "        c1,s1 = self.LF_husband_wife(c)\n",
    "        c2,s2 = self.LF_familial_relationship(c)\n",
    "        c3,s3 = self.LF_other_relationship(c)\n",
    "        sc = np.array([s1,s2,s3])\n",
    "        c = [c1,c2,c3]\n",
    "        sharp_param = 1.5\n",
    "\n",
    "        prob_sc = np.exp(sc * sharp_param - np.max(sc))\n",
    "        prob_sc = prob_sc / np.sum(prob_sc)\n",
    "        #print 'BW:',s1,s2,s3,prob_sc\n",
    "        if s1==s2 or s3==s1 or np.max(sc)< self.softmax_th:\n",
    "            return (0,0)\n",
    "        return c[np.argmax(prob_sc)],1\n",
    "\n",
    "\n"
   ]
  },
  {
   "cell_type": "code",
   "execution_count": null,
   "metadata": {},
   "outputs": [],
   "source": [
    "from scipy.stats import uniform\n",
    "import matplotlib.pyplot as plt\n",
    "import numpy as np\n",
    "#from sklearn.model_selection import RandomizedSearchCV\n",
    "\n",
    "from sklearn.model_selection import GridSearchCV\n",
    "\n",
    "LFs = ['LF_distant_supervision', 'LF_distant_supervision_last_names','LF_same_last_name',\n",
    "       'LF_and_married', 'LF_Three_Lists_Between_Words','LF_Three_Lists_Left_Window', 'LF_no_spouse_in_sentence'\n",
    "      ]\n",
    "\n",
    "from sklearn.metrics import precision_recall_fscore_support\n",
    "rv = uniform()\n",
    "\n",
    "clf = Custom_Estimator(LFs = LFs)\n",
    "\n",
    "def scoring_func(estimator,X,y=None):\n",
    "    return estimator.score(X)\n",
    "\n",
    "#rs = RandomizedSearchCV(estimator=clf,\n",
    "#                  param_distributions={'softmax_th': rv,'lf_th':rv},\n",
    "#                 scoring=scoring_func, n_iter=2, n_jobs=1)\n",
    "\n",
    "rs = GridSearchCV(estimator=clf,\n",
    "                  param_grid={'softmax_th': sf_r,'lf_th':lf_r},\n",
    "                  scoring=scoring_func, n_jobs=1)\n",
    "\n",
    "rs.fit(train_cands,None)\n",
    "\n",
    "\n"
   ]
  },
  {
   "cell_type": "code",
   "execution_count": 46,
   "metadata": {},
   "outputs": [
    {
     "name": "stdout",
     "output_type": "stream",
     "text": [
      "<class 'scipy.stats._distn_infrastructure.rv_frozen'>\n",
      "(array([ 0.4086289 ,  0.40511224,  0.39955817,  0.33481833,  0.48640155,\n",
      "        0.35372812,  0.28717862,  0.33605613,  0.40249064,  0.44609756]), array([ 0.31699018,  0.67021426,  0.79214362,  0.45867842,  0.34799037,\n",
      "        0.43957801,  0.95536917,  0.58556336,  0.58638658,  0.8952152 ]))\n"
     ]
    },
    {
     "data": {
      "image/png": "[encoded data removed]",
      "text/plain": [
       "<matplotlib.figure.Figure at 0x7fd199f719d0>"
      ]
     },
     "metadata": {},
     "output_type": "display_data"
    }
   ],
   "source": [
    "rv = uniform()\n",
    "print(type(rv))\n",
    "sf_r = uniform.rvs(loc=0.25,scale=0.3,size=10)\n",
    "lf_r = uniform.rvs(loc=0.3,scale=0.9,size=10)\n",
    "print(sf_r,lf_r)\n",
    "fig, ax = plt.subplots(1, 1)\n",
    "ax.hist(r, normed=True, histtype='stepfilled', alpha=5)\n",
    "ax.legend(loc='best', frameon=False)\n",
    "plt.show()"
   ]
  },
  {
   "cell_type": "code",
   "execution_count": 33,
   "metadata": {},
   "outputs": [
    {
     "name": "stdout",
     "output_type": "stream",
     "text": [
      "Warning: Desired error not necessarily achieved due to precision loss.\n",
      "         Current function value: 1242.906483\n",
      "         Iterations: 16\n",
      "         Function evaluations: 155\n",
      "         Gradient evaluations: 142\n",
      "[ 2.03650774  0.67314792  2.3369195   2.47217276  2.00444859  1.50217892\n",
      "  2.90203389]\n",
      "train iteration: 0\n"
     ]
    },
    {
     "data": {
      "image/png": "[encoded data removed]",
      "text/plain": [
       "<matplotlib.figure.Figure at 0x7f4359da0e90>"
      ]
     },
     "metadata": {},
     "output_type": "display_data"
    },
    {
     "data": {
      "image/png": "[encoded data removed]",
      "text/plain": [
       "<matplotlib.figure.Figure at 0x7f4337b28a10>"
      ]
     },
     "metadata": {},
     "output_type": "display_data"
    },
    {
     "name": "stdout",
     "output_type": "stream",
     "text": [
      "(2796, 2796, 2796)\n",
      "(0.13333333333333333, 0.6428571428571429, 0.22085889570552147, None)\n",
      "Optimization terminated successfully.\n",
      "         Current function value: 4862.520853\n",
      "         Iterations: 0\n",
      "         Function evaluations: 1\n",
      "         Gradient evaluations: 1\n",
      "[ 2.03650774  0.67314792  2.3369195   2.47217276  2.00444859  1.50217892\n",
      "  2.90203389]\n",
      "train iteration: 1\n"
     ]
    },
    {
     "data": {
      "image/png": "[encoded data removed]",
      "text/plain": [
       "<matplotlib.figure.Figure at 0x7f435a331f90>"
      ]
     },
     "metadata": {},
     "output_type": "display_data"
    },
    {
     "data": {
      "image/png": "[encoded data removed]",
      "text/plain": [
       "<matplotlib.figure.Figure at 0x7f436bc40250>"
      ]
     },
     "metadata": {},
     "output_type": "display_data"
    },
    {
     "name": "stdout",
     "output_type": "stream",
     "text": [
      "(2796, 2796, 2796)\n",
      "(0.13333333333333333, 0.6428571428571429, 0.22085889570552147, None)\n",
      "test:\n"
     ]
    },
    {
     "data": {
      "image/png": "[encoded data removed]",
      "text/plain": [
       "<matplotlib.figure.Figure at 0x7f436d966f50>"
      ]
     },
     "metadata": {},
     "output_type": "display_data"
    },
    {
     "data": {
      "image/png": "[encoded data removed]",
      "text/plain": [
       "<matplotlib.figure.Figure at 0x7f435bf1ebd0>"
      ]
     },
     "metadata": {},
     "output_type": "display_data"
    },
    {
     "name": "stdout",
     "output_type": "stream",
     "text": [
      "(2796, 2796, 2796)\n",
      "(0.13333333333333333, 0.6428571428571429, 0.22085889570552147, None)\n"
     ]
    }
   ],
   "source": [
    "from sklearn.metrics import precision_recall_fscore_support\n",
    "import matplotlib.pyplot as plt\n",
    "    \n",
    "dev_LAMDA,dev_SCORE = get_LAMDA(dev_cands)\n",
    "\n",
    "#write_to_file(wordvec_unavailable)\n",
    "\n",
    "# All LF_Threshold =0.8 and softmax_Threshold=0.7 ,three fourth removed-2\n",
    "train(2,Use_Confidence=False,theta_file_name=\"THETA\")\n",
    "\n",
    "test(THETA)"
   ]
  },
  {
   "cell_type": "code",
   "execution_count": 29,
   "metadata": {},
   "outputs": [
    {
     "name": "stdout",
     "output_type": "stream",
     "text": [
      "Optimization terminated successfully.\n",
      "         Current function value: 287.377300\n",
      "         Iterations: 17\n",
      "         Function evaluations: 24\n",
      "         Gradient evaluations: 24\n",
      "[ 3.45450582  0.66558336  3.69786424  3.72659838  0.87571888  1.52627452\n",
      "  4.33458061]\n",
      "train iteration: 0\n"
     ]
    },
    {
     "data": {
      "image/png": "[encoded data removed]",
      "text/plain": [
       "<matplotlib.figure.Figure at 0x7f436468bf50>"
      ]
     },
     "metadata": {},
     "output_type": "display_data"
    },
    {
     "data": {
      "image/png": "[encoded data removed]",
      "text/plain": [
       "<matplotlib.figure.Figure at 0x7f4382436610>"
      ]
     },
     "metadata": {},
     "output_type": "display_data"
    },
    {
     "name": "stdout",
     "output_type": "stream",
     "text": [
      "(2796, 2796, 2796)\n",
      "(0.084269662921348312, 0.30612244897959184, 0.13215859030837004, None)\n",
      "Optimization terminated successfully.\n",
      "         Current function value: 4071.960895\n",
      "         Iterations: 0\n",
      "         Function evaluations: 1\n",
      "         Gradient evaluations: 1\n",
      "[ 3.45450582  0.66558336  3.69786424  3.72659838  0.87571888  1.52627452\n",
      "  4.33458061]\n",
      "train iteration: 1\n"
     ]
    },
    {
     "data": {
      "image/png": "[encoded data removed]",
      "text/plain": [
       "<matplotlib.figure.Figure at 0x7f435837da90>"
      ]
     },
     "metadata": {},
     "output_type": "display_data"
    },
    {
     "data": {
      "image/png": "[encoded data removed]",
      "text/plain": [
       "<matplotlib.figure.Figure at 0x7f435a49cf90>"
      ]
     },
     "metadata": {},
     "output_type": "display_data"
    },
    {
     "name": "stdout",
     "output_type": "stream",
     "text": [
      "(2796, 2796, 2796)\n",
      "(0.084269662921348312, 0.30612244897959184, 0.13215859030837004, None)\n",
      "test:\n"
     ]
    },
    {
     "data": {
      "image/png": "[encoded data removed]",
      "text/plain": [
       "<matplotlib.figure.Figure at 0x7f43646876d0>"
      ]
     },
     "metadata": {},
     "output_type": "display_data"
    },
    {
     "data": {
      "image/png": "[encoded data removed]",
      "text/plain": [
       "<matplotlib.figure.Figure at 0x7f435b72cf50>"
      ]
     },
     "metadata": {},
     "output_type": "display_data"
    },
    {
     "name": "stdout",
     "output_type": "stream",
     "text": [
      "(2796, 2796, 2796)\n",
      "(0.084269662921348312, 0.30612244897959184, 0.13215859030837004, None)\n"
     ]
    }
   ],
   "source": [
    "from sklearn.metrics import precision_recall_fscore_support\n",
    "import matplotlib.pyplot as plt\n",
    "    \n",
    "dev_LAMDA,dev_SCORE = get_LAMDA(dev_cands)\n",
    "\n",
    "#write_to_file(wordvec_unavailable)\n",
    "\n",
    "# All LF_Threshold =0.8 and softmax_Threshold=0.7 ,three fourth removed\n",
    "train(2,Use_Confidence=False,theta_file_name=\"THETA\")\n",
    "\n",
    "test(THETA)"
   ]
  },
  {
   "cell_type": "code",
   "execution_count": 27,
   "metadata": {},
   "outputs": [
    {
     "name": "stdout",
     "output_type": "stream",
     "text": [
      "Optimization terminated successfully.\n",
      "         Current function value: 1536.396147\n",
      "         Iterations: 11\n",
      "         Function evaluations: 16\n",
      "         Gradient evaluations: 16\n",
      "[ 1.756606    0.72228253  2.1110369   2.27587191  1.80001088  1.52627452\n",
      "  2.71643542]\n",
      "train iteration: 0\n"
     ]
    },
    {
     "data": {
      "image/png": "[encoded data removed]",
      "text/plain": [
       "<matplotlib.figure.Figure at 0x7f4338e5ed50>"
      ]
     },
     "metadata": {},
     "output_type": "display_data"
    },
    {
     "data": {
      "image/png": "[encoded data removed]",
      "text/plain": [
       "<matplotlib.figure.Figure at 0x7f4338d8ba10>"
      ]
     },
     "metadata": {},
     "output_type": "display_data"
    },
    {
     "name": "stdout",
     "output_type": "stream",
     "text": [
      "(2796, 2796, 2796)\n",
      "(0.13807531380753138, 0.67346938775510201, 0.22916666666666666, None)\n",
      "Optimization terminated successfully.\n",
      "         Current function value: 5083.230264\n",
      "         Iterations: 0\n",
      "         Function evaluations: 1\n",
      "         Gradient evaluations: 1\n",
      "[ 1.756606    0.72228253  2.1110369   2.27587191  1.80001088  1.52627452\n",
      "  2.71643542]\n",
      "train iteration: 1\n"
     ]
    },
    {
     "data": {
      "image/png": "[encoded data removed]",
      "text/plain": [
       "<matplotlib.figure.Figure at 0x7f4357df0a90>"
      ]
     },
     "metadata": {},
     "output_type": "display_data"
    },
    {
     "data": {
      "image/png": "[encoded data removed]",
      "text/plain": [
       "<matplotlib.figure.Figure at 0x7f437f6e3190>"
      ]
     },
     "metadata": {},
     "output_type": "display_data"
    },
    {
     "name": "stdout",
     "output_type": "stream",
     "text": [
      "(2796, 2796, 2796)\n",
      "(0.13807531380753138, 0.67346938775510201, 0.22916666666666666, None)\n",
      "test:\n"
     ]
    },
    {
     "data": {
      "image/png": "[encoded data removed]",
      "text/plain": [
       "<matplotlib.figure.Figure at 0x7f4382360050>"
      ]
     },
     "metadata": {},
     "output_type": "display_data"
    },
    {
     "data": {
      "image/png": "[encoded data removed]",
      "text/plain": [
       "<matplotlib.figure.Figure at 0x7f4357dfb850>"
      ]
     },
     "metadata": {},
     "output_type": "display_data"
    },
    {
     "name": "stdout",
     "output_type": "stream",
     "text": [
      "(2796, 2796, 2796)\n",
      "(0.13807531380753138, 0.67346938775510201, 0.22916666666666666, None)\n"
     ]
    }
   ],
   "source": [
    "from sklearn.metrics import precision_recall_fscore_support\n",
    "import matplotlib.pyplot as plt\n",
    "    \n",
    "dev_LAMDA,dev_SCORE = get_LAMDA(dev_cands)\n",
    "\n",
    "#write_to_file(wordvec_unavailable)\n",
    "\n",
    "# All LF_Threshold =0.8 and softmax_Threshold=0.7 ,half removed\n",
    "train(2,Use_Confidence=False,theta_file_name=\"THETA\")\n",
    "\n",
    "test(THETA)"
   ]
  },
  {
   "cell_type": "code",
   "execution_count": 25,
   "metadata": {},
   "outputs": [
    {
     "name": "stdout",
     "output_type": "stream",
     "text": [
      "Warning: Maximum number of iterations has been exceeded.\n",
      "         Current function value: 1208.307357\n",
      "         Iterations: 20\n",
      "         Function evaluations: 29\n",
      "         Gradient evaluations: 29\n",
      "[ 1.86740842  0.84429949  2.26350895  2.4033164   1.77989364  1.68111137\n",
      "  2.86360725]\n",
      "train iteration: 0\n"
     ]
    },
    {
     "data": {
      "image/png": "[encoded data removed]",
      "text/plain": [
       "<matplotlib.figure.Figure at 0x7f437e925c90>"
      ]
     },
     "metadata": {},
     "output_type": "display_data"
    },
    {
     "data": {
      "image/png": "[encoded data removed]",
      "text/plain": [
       "<matplotlib.figure.Figure at 0x7f435bf9e890>"
      ]
     },
     "metadata": {},
     "output_type": "display_data"
    },
    {
     "name": "stdout",
     "output_type": "stream",
     "text": [
      "(2796, 2796, 2796)\n",
      "(0.13129102844638948, 0.61224489795918369, 0.21621621621621617, None)\n",
      "Optimization terminated successfully.\n",
      "         Current function value: 4717.018384\n",
      "         Iterations: 0\n",
      "         Function evaluations: 1\n",
      "         Gradient evaluations: 1\n",
      "[ 1.86740842  0.84429949  2.26350895  2.4033164   1.77989364  1.68111137\n",
      "  2.86360725]\n",
      "train iteration: 1\n"
     ]
    },
    {
     "data": {
      "image/png": "[encoded data removed]",
      "text/plain": [
       "<matplotlib.figure.Figure at 0x7f43bae5a850>"
      ]
     },
     "metadata": {},
     "output_type": "display_data"
    },
    {
     "data": {
      "image/png": "[encoded data removed]",
      "text/plain": [
       "<matplotlib.figure.Figure at 0x7f437e88b210>"
      ]
     },
     "metadata": {},
     "output_type": "display_data"
    },
    {
     "name": "stdout",
     "output_type": "stream",
     "text": [
      "(2796, 2796, 2796)\n",
      "(0.13129102844638948, 0.61224489795918369, 0.21621621621621617, None)\n",
      "test:\n"
     ]
    },
    {
     "data": {
      "image/png": "[encoded data removed]",
      "text/plain": [
       "<matplotlib.figure.Figure at 0x7f4361b6ebd0>"
      ]
     },
     "metadata": {},
     "output_type": "display_data"
    },
    {
     "data": {
      "image/png": "[encoded data removed]",
      "text/plain": [
       "<matplotlib.figure.Figure at 0x7f4381ba8310>"
      ]
     },
     "metadata": {},
     "output_type": "display_data"
    },
    {
     "name": "stdout",
     "output_type": "stream",
     "text": [
      "(2796, 2796, 2796)\n",
      "(0.13129102844638948, 0.61224489795918369, 0.21621621621621617, None)\n"
     ]
    }
   ],
   "source": [
    "# All LF_Threshold =0.8 and softmax_Threshold=0.7 ,one fourth removed\n",
    "train(2,Use_Confidence=False,theta_file_name=\"THETA\")\n",
    "\n",
    "test(THETA)"
   ]
  },
  {
   "cell_type": "code",
   "execution_count": 11,
   "metadata": {},
   "outputs": [
    {
     "name": "stdout",
     "output_type": "stream",
     "text": [
      "Warning: Maximum number of iterations has been exceeded.\n",
      "         Current function value: 330.069609\n",
      "         Iterations: 20\n",
      "         Function evaluations: 23\n",
      "         Gradient evaluations: 23\n",
      "[ 3.29293033  0.80240776  3.54276763  3.57746115  2.57487472  2.54625167\n",
      "  4.16422647]\n",
      "train iteration: 0\n"
     ]
    },
    {
     "data": {
      "image/png": "[encoded data removed]",
      "text/plain": [
       "<matplotlib.figure.Figure at 0x7f435c9a7610>"
      ]
     },
     "metadata": {},
     "output_type": "display_data"
    },
    {
     "data": {
      "image/png": "[encoded data removed]",
      "text/plain": [
       "<matplotlib.figure.Figure at 0x7f435c80f590>"
      ]
     },
     "metadata": {},
     "output_type": "display_data"
    },
    {
     "name": "stdout",
     "output_type": "stream",
     "text": [
      "(2796, 2796, 2796)\n",
      "(0.13274336283185842, 0.68877551020408168, 0.22258862324814513, None)\n",
      "Optimization terminated successfully.\n",
      "         Current function value: 4182.213294\n",
      "         Iterations: 0\n",
      "         Function evaluations: 1\n",
      "         Gradient evaluations: 1\n",
      "[ 3.29293033  0.80240776  3.54276763  3.57746115  2.57487472  2.54625167\n",
      "  4.16422647]\n",
      "train iteration: 1\n"
     ]
    },
    {
     "data": {
      "image/png": "[encoded data removed]",
      "text/plain": [
       "<matplotlib.figure.Figure at 0x7f435c9a7d10>"
      ]
     },
     "metadata": {},
     "output_type": "display_data"
    },
    {
     "data": {
      "image/png": "[encoded data removed]",
      "text/plain": [
       "<matplotlib.figure.Figure at 0x7f435bea9750>"
      ]
     },
     "metadata": {},
     "output_type": "display_data"
    },
    {
     "name": "stdout",
     "output_type": "stream",
     "text": [
      "(2796, 2796, 2796)\n",
      "(0.13274336283185842, 0.68877551020408168, 0.22258862324814513, None)\n",
      "test:\n"
     ]
    },
    {
     "data": {
      "image/png": "[encoded data removed]",
      "text/plain": [
       "<matplotlib.figure.Figure at 0x7f436ad14350>"
      ]
     },
     "metadata": {},
     "output_type": "display_data"
    },
    {
     "data": {
      "image/png": "[encoded data removed]",
      "text/plain": [
       "<matplotlib.figure.Figure at 0x7f435c117750>"
      ]
     },
     "metadata": {},
     "output_type": "display_data"
    },
    {
     "name": "stdout",
     "output_type": "stream",
     "text": [
      "(2796, 2796, 2796)\n",
      "(0.13274336283185842, 0.68877551020408168, 0.22258862324814513, None)\n"
     ]
    }
   ],
   "source": [
    "# All LF_Threshold =0.3 and softmax_Threshold=0.5\n",
    "train(2,Use_Confidence=False,theta_file_name=\"THETA\")\n",
    "\n",
    "test(THETA)"
   ]
  },
  {
   "cell_type": "code",
   "execution_count": 11,
   "metadata": {},
   "outputs": [
    {
     "name": "stdout",
     "output_type": "stream",
     "text": [
      "Warning: Maximum number of iterations has been exceeded.\n",
      "         Current function value: 330.069609\n",
      "         Iterations: 20\n",
      "         Function evaluations: 23\n",
      "         Gradient evaluations: 23\n",
      "[ 3.29293033  0.80240776  3.54276763  3.57746115  2.57487472  2.54625167\n",
      "  4.16422647]\n",
      "train iteration: 0\n"
     ]
    },
    {
     "data": {
      "image/png": "[encoded data removed]",
      "text/plain": [
       "<matplotlib.figure.Figure at 0x7f435c9a7610>"
      ]
     },
     "metadata": {},
     "output_type": "display_data"
    },
    {
     "data": {
      "image/png": "[encoded data removed]",
      "text/plain": [
       "<matplotlib.figure.Figure at 0x7f435c80f590>"
      ]
     },
     "metadata": {},
     "output_type": "display_data"
    },
    {
     "name": "stdout",
     "output_type": "stream",
     "text": [
      "(2796, 2796, 2796)\n",
      "(0.13274336283185842, 0.68877551020408168, 0.22258862324814513, None)\n",
      "Optimization terminated successfully.\n",
      "         Current function value: 4182.213294\n",
      "         Iterations: 0\n",
      "         Function evaluations: 1\n",
      "         Gradient evaluations: 1\n",
      "[ 3.29293033  0.80240776  3.54276763  3.57746115  2.57487472  2.54625167\n",
      "  4.16422647]\n",
      "train iteration: 1\n"
     ]
    },
    {
     "data": {
      "image/png": "[encoded data removed]",
      "text/plain": [
       "<matplotlib.figure.Figure at 0x7f435c9a7d10>"
      ]
     },
     "metadata": {},
     "output_type": "display_data"
    },
    {
     "data": {
      "image/png": "[encoded data removed]",
      "text/plain": [
       "<matplotlib.figure.Figure at 0x7f435bea9750>"
      ]
     },
     "metadata": {},
     "output_type": "display_data"
    },
    {
     "name": "stdout",
     "output_type": "stream",
     "text": [
      "(2796, 2796, 2796)\n",
      "(0.13274336283185842, 0.68877551020408168, 0.22258862324814513, None)\n",
      "test:\n"
     ]
    },
    {
     "data": {
      "image/png": "[encoded data removed]",
      "text/plain": [
       "<matplotlib.figure.Figure at 0x7f436ad14350>"
      ]
     },
     "metadata": {},
     "output_type": "display_data"
    },
    {
     "data": {
      "image/png": "[encoded data removed]",
      "text/plain": [
       "<matplotlib.figure.Figure at 0x7f435c117750>"
      ]
     },
     "metadata": {},
     "output_type": "display_data"
    },
    {
     "name": "stdout",
     "output_type": "stream",
     "text": [
      "(2796, 2796, 2796)\n",
      "(0.13274336283185842, 0.68877551020408168, 0.22258862324814513, None)\n"
     ]
    }
   ],
   "source": [
    "# All LF_Threshold =0.7 and softmax_Threshold=0.7\n",
    "train(2,Use_Confidence=False,theta_file_name=\"THETA\")\n",
    "\n",
    "test(THETA)"
   ]
  },
  {
   "cell_type": "code",
   "execution_count": 11,
   "metadata": {},
   "outputs": [
    {
     "name": "stdout",
     "output_type": "stream",
     "text": [
      "Warning: Maximum number of iterations has been exceeded.\n",
      "         Current function value: 330.069609\n",
      "         Iterations: 20\n",
      "         Function evaluations: 23\n",
      "         Gradient evaluations: 23\n",
      "[ 3.29293033  0.80240776  3.54276763  3.57746115  2.57487472  2.54625167\n",
      "  4.16422647]\n",
      "train iteration: 0\n"
     ]
    },
    {
     "data": {
      "image/png": "[encoded data removed]",
      "text/plain": [
       "<matplotlib.figure.Figure at 0x7f435c9a7610>"
      ]
     },
     "metadata": {},
     "output_type": "display_data"
    },
    {
     "data": {
      "image/png": "[encoded data removed]",
      "text/plain": [
       "<matplotlib.figure.Figure at 0x7f435c80f590>"
      ]
     },
     "metadata": {},
     "output_type": "display_data"
    },
    {
     "name": "stdout",
     "output_type": "stream",
     "text": [
      "(2796, 2796, 2796)\n",
      "(0.13274336283185842, 0.68877551020408168, 0.22258862324814513, None)\n",
      "Optimization terminated successfully.\n",
      "         Current function value: 4182.213294\n",
      "         Iterations: 0\n",
      "         Function evaluations: 1\n",
      "         Gradient evaluations: 1\n",
      "[ 3.29293033  0.80240776  3.54276763  3.57746115  2.57487472  2.54625167\n",
      "  4.16422647]\n",
      "train iteration: 1\n"
     ]
    },
    {
     "data": {
      "image/png": "[encoded data removed]",
      "text/plain": [
       "<matplotlib.figure.Figure at 0x7f435c9a7d10>"
      ]
     },
     "metadata": {},
     "output_type": "display_data"
    },
    {
     "data": {
      "image/png": "[encoded data removed]",
      "text/plain": [
       "<matplotlib.figure.Figure at 0x7f435bea9750>"
      ]
     },
     "metadata": {},
     "output_type": "display_data"
    },
    {
     "name": "stdout",
     "output_type": "stream",
     "text": [
      "(2796, 2796, 2796)\n",
      "(0.13274336283185842, 0.68877551020408168, 0.22258862324814513, None)\n",
      "test:\n"
     ]
    },
    {
     "data": {
      "image/png": "[encoded data removed]",
      "text/plain": [
       "<matplotlib.figure.Figure at 0x7f436ad14350>"
      ]
     },
     "metadata": {},
     "output_type": "display_data"
    },
    {
     "data": {
      "image/png": "[encoded data removed]",
      "text/plain": [
       "<matplotlib.figure.Figure at 0x7f435c117750>"
      ]
     },
     "metadata": {},
     "output_type": "display_data"
    },
    {
     "name": "stdout",
     "output_type": "stream",
     "text": [
      "(2796, 2796, 2796)\n",
      "(0.13274336283185842, 0.68877551020408168, 0.22258862324814513, None)\n"
     ]
    }
   ],
   "source": [
    "# All LF_Threshold =0.8 and softmax_Threshold=0.5\n",
    "train(2,Use_Confidence=False,theta_file_name=\"THETA\")\n",
    "\n",
    "test(THETA)"
   ]
  },
  {
   "cell_type": "code",
   "execution_count": null,
   "metadata": {
    "collapsed": true
   },
   "outputs": [],
   "source": [
    "def print_details(label,THETA,LAMDA,SCORE):\n",
    "    print(label)\n",
    "    P_cap = get_P_cap(LAMDA,SCORE,THETA)\n",
    "    marginals=get_marginals(P_cap)\n",
    "    plt.hist(marginals, bins=20)\n",
    "    plt.show()\n",
    "    #plt.bar(range(0,2796),marginals)\n",
    "    #plt.show()\n",
    "    predicted_labels=predict_labels(marginals)\n",
    "    print(len(marginals),len(predicted_labels),len(gold_labels_dev))\n",
    "    #score(predicted_labels,gold_labels_dev)\n",
    "    print(precision_recall_fscore_support(np.array(gold_labels_dev),np.array(predicted_labels),average='binary')) \n",
    "    \n",
    "def predict_labels(marginals):\n",
    "    predicted_labels=[]\n",
    "    for i in marginals:\n",
    "        if(i<0.5):\n",
    "            predicted_labels.append(-1)\n",
    "        else:\n",
    "            predicted_labels.append(1)\n",
    "    return predicted_labels\n",
    "\n",
    "#import cPickle as pickle\n",
    "#THETA = pickle.load( open( \"THETA.p\", \"rb\" ) )\n",
    "#test(THETA)\n",
    "#LAMDA,SCORE = get_LAMDA(dev_cands)\n",
    "#Confidence = get_Confidence(LAMDA)\n",
    "\n",
    "#P_cap = get_P_cap(LAMDA,SCORE,THETA)\n",
    "#marginals=get_marginals(P_cap)\n",
    "#plt.hist(marginals, bins=20)\n",
    "#plt.show()\n",
    "#plt.bar(range(0,888),train_marginals)\n",
    "#plt.show()\n",
    "\n",
    "print_details(\"dev set\",THETA,dev_LAMDA,dev_SCORE)\n",
    "predicted_labels=predict_labels(marginals)\n",
    "\n",
    "\n",
    "sorted_predicted_labels=[x for (y,x) in sorted(zip(Confidence,predicted_labels))] #sort Labels as per Confidence\n",
    "sorted_predicted_labels=list(reversed(sorted_predicted_labels))\n",
    "\n",
    "\n",
    "for i,j in enumerate(reversed(sorted(zip(Confidence,predicted_labels,gold_labels_dev)))):\n",
    "    if i>20:\n",
    "        break\n",
    "    print i,j\n",
    "#print(len(marginals),len(predicted_labels),len(gold_labels_dev))\n",
    "#no_of_labels=186#int(len(predicted_labels)*0.1)  #54 - >0.2  , 108>= 0.15 , 186>= 0.12\n",
    "#print(len(sorted_predicted_labels[0:no_of_labels]))\n",
    "no_of_labels=2796\n",
    "score(predicted_labels[0:no_of_labels],gold_labels_dev[0:no_of_labels])\n"
   ]
  }
 ],
 "metadata": {
  "kernelspec": {
   "display_name": "Python 2",
   "language": "python",
   "name": "python2"
  },
  "language_info": {
   "codemirror_mode": {
    "name": "ipython",
    "version": 2
   },
   "file_extension": ".py",
   "mimetype": "text/x-python",
   "name": "python",
   "nbconvert_exporter": "python",
   "pygments_lexer": "ipython2",
   "version": "2.7.13"
  }
 },
 "nbformat": 4,
 "nbformat_minor": 2
}
