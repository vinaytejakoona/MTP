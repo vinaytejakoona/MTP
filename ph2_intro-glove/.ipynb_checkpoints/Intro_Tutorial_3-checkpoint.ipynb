{
 "cells": [
  {
   "cell_type": "markdown",
   "metadata": {},
   "source": [
    "# Intro. to Snorkel: Extracting Spouse Relations from the News"
   ]
  },
  {
   "cell_type": "markdown",
   "metadata": {},
   "source": [
    "## Part III: Training an End Extraction Model\n",
    "\n",
    "In this final section of the tutorial, we'll use the noisy training labels we generated in the last tutorial part to train our end extraction model.\n",
    "\n",
    "For this tutorial, we will be training a Bi-LSTM, a state-of-the-art deep neural network implemented in [TensorFlow](https://www.tensorflow.org/)."
   ]
  },
  {
   "cell_type": "code",
   "execution_count": 1,
   "metadata": {
    "collapsed": true
   },
   "outputs": [],
   "source": [
    "%load_ext autoreload\n",
    "%autoreload 2\n",
    "%matplotlib inline\n",
    "import os\n",
    "\n",
    "# TO USE A DATABASE OTHER THAN SQLITE, USE THIS LINE\n",
    "# Note that this is necessary for parallel execution amongst other things...\n",
    "# os.environ['SNORKELDB'] = 'postgres:///snorkel-intro'\n",
    "\n",
    "from snorkel import SnorkelSession\n",
    "session = SnorkelSession()"
   ]
  },
  {
   "cell_type": "markdown",
   "metadata": {},
   "source": [
    "We repeat our definition of the `Spouse` `Candidate` subclass:"
   ]
  },
  {
   "cell_type": "code",
   "execution_count": 2,
   "metadata": {
    "collapsed": true
   },
   "outputs": [],
   "source": [
    "from snorkel.models import candidate_subclass\n",
    "\n",
    "Spouse = candidate_subclass('Spouse', ['person1', 'person2'])"
   ]
  },
  {
   "cell_type": "markdown",
   "metadata": {},
   "source": [
    "We reload the probabilistic training labels:"
   ]
  },
  {
   "cell_type": "code",
   "execution_count": 3,
   "metadata": {},
   "outputs": [],
   "source": [
    "from snorkel.annotations import load_marginals\n",
    "\n",
    "train_marginals = load_marginals(session, split=0)"
   ]
  },
  {
   "cell_type": "markdown",
   "metadata": {},
   "source": [
    "We also reload the candidates:"
   ]
  },
  {
   "cell_type": "code",
   "execution_count": 3,
   "metadata": {
    "collapsed": true
   },
   "outputs": [],
   "source": [
    "train_cands = session.query(Spouse).filter(Spouse.split == 0).order_by(Spouse.id).all()\n",
    "dev_cands   = session.query(Spouse).filter(Spouse.split == 1).order_by(Spouse.id).all()\n",
    "test_cands  = session.query(Spouse).filter(Spouse.split == 2).order_by(Spouse.id).all()"
   ]
  },
  {
   "cell_type": "code",
   "execution_count": 6,
   "metadata": {},
   "outputs": [
    {
     "name": "stdout",
     "output_type": "stream",
     "text": [
      "Spouse(Span(\"Sandringham\", sentence=21095, chars=[28,38], words=[6,6]), Span(\"Granville Roberts\", sentence=21095, chars=[70,86], words=[12,13])) The source of the news from Sandringham came from a journalist called Granville Roberts, who worked on the East African Standard and was covering the royal visit.   \n",
      "Spouse(Span(\"Twitter\", sentence=24262, chars=[235,241], words=[46,46]), Span(\"Kerry\", sentence=24262, chars=[441,445], words=[86,86])) Special guest: Ariana Grande arrived to join Coldplay for a duet      Chic: The One Last Time singer looked stylish in a black and white striped jumpsuit with a plunging front and cut-outs      Grateful: The Scream Queens star took to Twitter following the performance to gush: 'thank you @coldplay [heart emoji] it was an honor to say the least #GlobalCitizenFestival'   Actress Freida Pinto was also spotted walking the carpet, along with Kerry, as she arrived at the star-studded festival.    \n",
      "Spouse(Span(\"Chic\", sentence=24262, chars=[70,73], words=[13,13]), Span(\"Twitter\", sentence=24262, chars=[235,241], words=[46,46])) Special guest: Ariana Grande arrived to join Coldplay for a duet      Chic: The One Last Time singer looked stylish in a black and white striped jumpsuit with a plunging front and cut-outs      Grateful: The Scream Queens star took to Twitter following the performance to gush: 'thank you @coldplay [heart emoji] it was an honor to say the least #GlobalCitizenFestival'   Actress Freida Pinto was also spotted walking the carpet, along with Kerry, as she arrived at the star-studded festival.    \n",
      "Spouse(Span(\"Chic\", sentence=24262, chars=[70,73], words=[13,13]), Span(\"Kerry\", sentence=24262, chars=[441,445], words=[86,86])) Special guest: Ariana Grande arrived to join Coldplay for a duet      Chic: The One Last Time singer looked stylish in a black and white striped jumpsuit with a plunging front and cut-outs      Grateful: The Scream Queens star took to Twitter following the performance to gush: 'thank you @coldplay [heart emoji] it was an honor to say the least #GlobalCitizenFestival'   Actress Freida Pinto was also spotted walking the carpet, along with Kerry, as she arrived at the star-studded festival.    \n",
      "Spouse(Span(\"Ariana Grande\", sentence=24262, chars=[15,27], words=[3,4]), Span(\"Twitter\", sentence=24262, chars=[235,241], words=[46,46])) Special guest: Ariana Grande arrived to join Coldplay for a duet      Chic: The One Last Time singer looked stylish in a black and white striped jumpsuit with a plunging front and cut-outs      Grateful: The Scream Queens star took to Twitter following the performance to gush: 'thank you @coldplay [heart emoji] it was an honor to say the least #GlobalCitizenFestival'   Actress Freida Pinto was also spotted walking the carpet, along with Kerry, as she arrived at the star-studded festival.    \n",
      "Spouse(Span(\"Ariana Grande\", sentence=24262, chars=[15,27], words=[3,4]), Span(\"Kerry\", sentence=24262, chars=[441,445], words=[86,86])) Special guest: Ariana Grande arrived to join Coldplay for a duet      Chic: The One Last Time singer looked stylish in a black and white striped jumpsuit with a plunging front and cut-outs      Grateful: The Scream Queens star took to Twitter following the performance to gush: 'thank you @coldplay [heart emoji] it was an honor to say the least #GlobalCitizenFestival'   Actress Freida Pinto was also spotted walking the carpet, along with Kerry, as she arrived at the star-studded festival.    \n",
      "Spouse(Span(\"Ariana Grande\", sentence=24262, chars=[15,27], words=[3,4]), Span(\"Chic\", sentence=24262, chars=[70,73], words=[13,13])) Special guest: Ariana Grande arrived to join Coldplay for a duet      Chic: The One Last Time singer looked stylish in a black and white striped jumpsuit with a plunging front and cut-outs      Grateful: The Scream Queens star took to Twitter following the performance to gush: 'thank you @coldplay [heart emoji] it was an honor to say the least #GlobalCitizenFestival'   Actress Freida Pinto was also spotted walking the carpet, along with Kerry, as she arrived at the star-studded festival.    \n",
      "Spouse(Span(\"Joey Buttafuoco\", sentence=65344, chars=[0,14], words=[0,1]), Span(\"Evanka Buttafuoco\", sentence=65344, chars=[130,146], words=[29,30])) Joey Buttafuoco, 59, an auto shop owner, gave an interview to Crime Watch Daily  [To air Tuesday, Wednesday] with his second wife Evanka Buttafuoco, 53, and discussed how his life has changed since the 'Long Island Lolita' saga.    \n",
      "Spouse(Span(\"Calvin Harris\", sentence=24913, chars=[26,38], words=[4,5]), Span(\"Samuel Goldwyn\", sentence=24913, chars=[99,112], words=[18,19])) songstress got hitched to Calvin Harris, while Variety claimed that she dropped $25 million on the Samuel Goldwyn estate in Beverly Hills.\n",
      "Spouse(Span(\"Calvin Harris\", sentence=24913, chars=[26,38], words=[4,5]), Span(\"Variety\", sentence=24913, chars=[47,53], words=[8,8])) songstress got hitched to Calvin Harris, while Variety claimed that she dropped $25 million on the Samuel Goldwyn estate in Beverly Hills.\n"
     ]
    }
   ],
   "source": [
    "for c in train_cands[:10]:\n",
    "    print c,c.get_parent().text"
   ]
  },
  {
   "cell_type": "markdown",
   "metadata": {},
   "source": [
    "Finally, we load gold labels for evaluation:"
   ]
  },
  {
   "cell_type": "code",
   "execution_count": 10,
   "metadata": {
    "collapsed": true
   },
   "outputs": [],
   "source": [
    "from snorkel.annotations import load_gold_labels\n",
    "\n",
    "L_gold_dev  = load_gold_labels(session, annotator_name='gold', split=1)\n",
    "L_gold_test = load_gold_labels(session, annotator_name='gold', split=2)"
   ]
  },
  {
   "cell_type": "markdown",
   "metadata": {},
   "source": [
    "Now we can setup our discriminative model. Here we specify the model and learning hyperparameters.\n",
    "\n",
    "They can also be set automatically using a search based on the dev set with a [GridSearch](https://github.com/HazyResearch/snorkel/blob/master/snorkel/learning/utils.py) object."
   ]
  },
  {
   "cell_type": "code",
   "execution_count": 16,
   "metadata": {},
   "outputs": [
    {
     "name": "stdout",
     "output_type": "stream",
     "text": [
      "[reRNN] Training model\n",
      "[reRNN] n_train=17205  #epochs=10  batch size=256\n",
      "[reRNN] Epoch 0 (23.43s)\tAverage loss=0.566997\tDev F1=34.46\n",
      "[reRNN] Epoch 1 (48.20s)\tAverage loss=0.535070\tDev F1=36.13\n",
      "[reRNN] Epoch 2 (73.24s)\tAverage loss=0.533329\tDev F1=35.49\n",
      "[reRNN] Epoch 3 (98.04s)\tAverage loss=0.532918\tDev F1=36.92\n",
      "[reRNN] Epoch 4 (123.41s)\tAverage loss=0.532681\tDev F1=35.93\n",
      "[reRNN] Epoch 5 (148.55s)\tAverage loss=0.532237\tDev F1=33.81\n",
      "[reRNN] Epoch 6 (174.32s)\tAverage loss=0.531906\tDev F1=38.29\n",
      "[reRNN] Epoch 7 (199.92s)\tAverage loss=0.531722\tDev F1=38.26\n",
      "[reRNN] Epoch 8 (224.76s)\tAverage loss=0.531367\tDev F1=38.54\n",
      "[reRNN] Model saved as <reRNN>\n",
      "[reRNN] Epoch 9 (251.51s)\tAverage loss=0.531073\tDev F1=39.50\n",
      "[reRNN] Model saved as <reRNN>\n",
      "[reRNN] Training done (254.57s)\n",
      "[reRNN] Loaded model <reRNN>\n"
     ]
    }
   ],
   "source": [
    "from snorkel.learning.disc_models.rnn import reRNN\n",
    "\n",
    "train_kwargs = {\n",
    "    'lr':         0.01,\n",
    "    'dim':        50,\n",
    "    'n_epochs':   10,\n",
    "    'dropout':    0.25,\n",
    "    'print_freq': 1,\n",
    "    'max_sentence_length': 100\n",
    "}\n",
    "\n",
    "lstm = reRNN(seed=1701, n_threads=None)\n",
    "lstm.train(train_cands, train_marginals, X_dev=dev_cands, Y_dev=L_gold_dev, **train_kwargs)"
   ]
  },
  {
   "cell_type": "markdown",
   "metadata": {},
   "source": [
    "Now, we get the precision, recall, and F1 score from the discriminative model:"
   ]
  },
  {
   "cell_type": "code",
   "execution_count": 17,
   "metadata": {},
   "outputs": [
    {
     "name": "stdout",
     "output_type": "stream",
     "text": [
      "Prec: 0.333, Recall: 0.692, F1 Score: 0.450\n"
     ]
    }
   ],
   "source": [
    "p, r, f1 = lstm.score(test_cands, L_gold_test)\n",
    "print(\"Prec: {0:.3f}, Recall: {1:.3f}, F1 Score: {2:.3f}\".format(p, r, f1))"
   ]
  },
  {
   "cell_type": "markdown",
   "metadata": {},
   "source": [
    "We can also get the candidates returned in sets (true positives, false positives, true negatives, false negatives) as well as a more detailed score report:"
   ]
  },
  {
   "cell_type": "code",
   "execution_count": 18,
   "metadata": {},
   "outputs": [
    {
     "name": "stdout",
     "output_type": "stream",
     "text": [
      "========================================\n",
      "Scores (Un-adjusted)\n",
      "========================================\n",
      "Pos. class accuracy: 0.692\n",
      "Neg. class accuracy: 0.875\n",
      "Precision            0.333\n",
      "Recall               0.692\n",
      "F1                   0.45\n",
      "----------------------------------------\n",
      "TP: 155 | FP: 310 | TN: 2163 | FN: 69\n",
      "========================================\n",
      "\n"
     ]
    }
   ],
   "source": [
    "tp, fp, tn, fn = lstm.error_analysis(session, test_cands, L_gold_test)"
   ]
  },
  {
   "cell_type": "markdown",
   "metadata": {},
   "source": [
    "Note that if this is the final test set that you will be reporting final numbers on, to avoid biasing results you should not inspect results.  However you can run the model on your _development set_ and, as we did in the previous part with the generative labeling function model, inspect examples to do error analysis.\n",
    "\n",
    "You can also improve performance substantially by increasing the number of training epochs!\n",
    "\n",
    "Finally, we can save the predictions of the model on the test set back to the database. (This also works for other candidate sets, such as unlabeled candidates.)"
   ]
  },
  {
   "cell_type": "code",
   "execution_count": 19,
   "metadata": {},
   "outputs": [
    {
     "name": "stdout",
     "output_type": "stream",
     "text": [
      "Saved 2697 marginals\n"
     ]
    }
   ],
   "source": [
    "lstm.save_marginals(session, test_cands)"
   ]
  },
  {
   "cell_type": "markdown",
   "metadata": {},
   "source": [
    "##### More importantly, you completed the introduction to Snorkel! Give yourself a pat on the back!"
   ]
  }
 ],
 "metadata": {
  "anaconda-cloud": {},
  "kernelspec": {
   "display_name": "Python 2",
   "language": "python",
   "name": "python2"
  },
  "language_info": {
   "codemirror_mode": {
    "name": "ipython",
    "version": 2
   },
   "file_extension": ".py",
   "mimetype": "text/x-python",
   "name": "python",
   "nbconvert_exporter": "python",
   "pygments_lexer": "ipython2",
   "version": "2.7.13"
  }
 },
 "nbformat": 4,
 "nbformat_minor": 1
}
